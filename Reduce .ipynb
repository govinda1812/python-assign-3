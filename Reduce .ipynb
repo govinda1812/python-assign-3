{
 "cells": [
  {
   "cell_type": "code",
   "execution_count": 47,
   "id": "6f96ff63",
   "metadata": {},
   "outputs": [
    {
     "name": "stdout",
     "output_type": "stream",
     "text": [
      "91\n"
     ]
    }
   ],
   "source": [
    "def fun(a,b):\n",
    "    return a+b   \n",
    "    \n",
    "def myreduce(fun,l1):\n",
    "    if len(l1)==1:\n",
    "        return l1[0]\n",
    "        \n",
    "        \n",
    "    else:\n",
    "        for i in range(len(l1)):\n",
    "            i=0\n",
    "            a=fun(l1[i],l1[i+1])\n",
    "            l3=[a]\n",
    "            if a==sum(l1):\n",
    "                l1=[a]\n",
    "                break\n",
    "            for i in l1[2:]:\n",
    "                l3.append(i)\n",
    "                \n",
    "            l1=l3\n",
    "        return l1[0]    \n",
    "            \n",
    "            \n",
    "            \n",
    "    \n",
    "     \n",
    "l1=[1,6,8,9,67]\n",
    "print(myreduce(fun,l1))"
   ]
  },
  {
   "cell_type": "code",
   "execution_count": null,
   "id": "c83f4eee",
   "metadata": {},
   "outputs": [],
   "source": []
  },
  {
   "cell_type": "code",
   "execution_count": null,
   "id": "faed86aa",
   "metadata": {},
   "outputs": [],
   "source": []
  }
 ],
 "metadata": {
  "kernelspec": {
   "display_name": "Python 3 (ipykernel)",
   "language": "python",
   "name": "python3"
  },
  "language_info": {
   "codemirror_mode": {
    "name": "ipython",
    "version": 3
   },
   "file_extension": ".py",
   "mimetype": "text/x-python",
   "name": "python",
   "nbconvert_exporter": "python",
   "pygments_lexer": "ipython3",
   "version": "3.9.12"
  }
 },
 "nbformat": 4,
 "nbformat_minor": 5
}

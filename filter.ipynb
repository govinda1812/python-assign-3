{
 "cells": [
  {
   "cell_type": "code",
   "execution_count": null,
   "id": "6296a416",
   "metadata": {},
   "outputs": [],
   "source": [
    "def even(n):\n",
    "    if n%2==0:\n",
    "        return 1\n",
    "    else:\n",
    "        return 0\n",
    "def myfilter(even,l1):\n",
    "    for i in l1:\n",
    "        l3.append(even(i))\n",
    "    return l3\n",
    "print(myfilter(even,[]))\n",
    "    "
   ]
  }
 ],
 "metadata": {
  "kernelspec": {
   "display_name": "Python 3 (ipykernel)",
   "language": "python",
   "name": "python3"
  },
  "language_info": {
   "codemirror_mode": {
    "name": "ipython",
    "version": 3
   },
   "file_extension": ".py",
   "mimetype": "text/x-python",
   "name": "python",
   "nbconvert_exporter": "python",
   "pygments_lexer": "ipython3",
   "version": "3.9.12"
  }
 },
 "nbformat": 4,
 "nbformat_minor": 5
}
